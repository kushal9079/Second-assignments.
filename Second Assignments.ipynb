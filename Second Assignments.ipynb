{
 "cells": [
  {
   "cell_type": "markdown",
   "id": "725c414d-10c2-48c5-9c4b-1bde2dd23f42",
   "metadata": {
    "tags": []
   },
   "source": [
    "# Question 1 :- \n",
    "\n"
   ]
  },
  {
   "cell_type": "code",
   "execution_count": 7,
   "id": "a352e2ad-b388-4387-8328-20f2546c88c9",
   "metadata": {},
   "outputs": [
    {
     "name": "stdout",
     "output_type": "stream",
     "text": [
      "  hello world\n"
     ]
    }
   ],
   "source": [
    "# commments are two type in python.\n",
    "#1 is single line comment :- syantax is ( # ).\n",
    "# Ex. print (\" hello sir , Radhe Radhe\")\n",
    "\n",
    "### 2 is multiple line comment :- syantax is  (''' or \"\"\")\n",
    "\n",
    "'''\n",
    "hello sir \n",
    "'''\n",
    "\n",
    "\"\"\"\n",
    "hello pw , how you are hope you well\n",
    "This course is supper sir , thank you for providing this.\n",
    "\"\"\"\n",
    "print(\"  hello world\" )\n"
   ]
  },
  {
   "cell_type": "markdown",
   "id": "3effdafe-a9cd-4464-a2da-140e567f6f9a",
   "metadata": {},
   "source": [
    " # Question :- 2"
   ]
  },
  {
   "cell_type": "code",
   "execution_count": 5,
   "id": "269a7734-ac1d-4b78-86b6-1e7fa6598920",
   "metadata": {},
   "outputs": [
    {
     "name": "stdout",
     "output_type": "stream",
     "text": [
      "25\n",
      "John\n",
      "3.14\n",
      "True\n"
     ]
    }
   ],
   "source": [
    "# Variables :-\n",
    "\n",
    "\"\"\" In Python, a variable is a name that refers to a value or an object. Variables are used to store and manipulate data in a program.\n",
    "Unlike some other programming languages, you don't need to explicitly declare the type of a variable in Python;\n",
    "the interpreter infers the type based on the value assigned to it. \n",
    "\"\"\"\n",
    "\n",
    "# Example:\n",
    "age = 25\n",
    "print(age)\n",
    "\n",
    "name = \"John\"\n",
    "print(name)\n",
    "\n",
    "pi_value = 3.14\n",
    "print (pi_value)\n",
    "\n",
    "is_student = True\n",
    "print(is_student)\n",
    "\n",
    "\n",
    "\n",
    "\n"
   ]
  },
  {
   "cell_type": "markdown",
   "id": "8a059db4-72f9-455d-9c07-0d1d7b84df13",
   "metadata": {},
   "source": [
    "# Question :- 3"
   ]
  },
  {
   "cell_type": "code",
   "execution_count": 22,
   "id": "74995ba7-5102-45e5-a422-3c0a8b5371e2",
   "metadata": {},
   "outputs": [
    {
     "name": "stdout",
     "output_type": "stream",
     "text": [
      "3.14\n",
      "3\n",
      "200\n",
      "200.0\n",
      "3.14\n",
      "(3.14+0j)\n",
      "42\n",
      "42\n"
     ]
    }
   ],
   "source": [
    "# convert one data type into another data type :\n",
    "# In Python, you can convert one data type to another using type conversion functions or methods.\n",
    "\n",
    "# now i will convert float_number into a int_number.\n",
    "\n",
    "float_number = 3.14\n",
    "print(float_number)\n",
    "\n",
    "\n",
    "int_number = int(float_number)\n",
    "print(int_number) \n",
    "\n",
    "# now i will convert int_number into a float_number.\n",
    "\n",
    "int_number = 200\n",
    "print(int_number)\n",
    "\n",
    "float_number = float(int_number)\n",
    "print(float_number) \n",
    "\n",
    "# now we will convert number into a complex_number.\n",
    "\n",
    "number = 3.14\n",
    "print(number)\n",
    "\n",
    "complex_number = complex(number)\n",
    "print(complex_number)  # Output: (3.14 + 0j)\n",
    "\n",
    "# now we will convert number into a string_number.\n",
    "\n",
    "number = 42\n",
    "print(number)\n",
    "\n",
    "string_number = str(number)\n",
    "print( string_number)   \n",
    "\n",
    "\n",
    "\n"
   ]
  },
  {
   "cell_type": "markdown",
   "id": "26c27e9f-6ec5-4bb0-9b9c-b18318d924b6",
   "metadata": {},
   "source": [
    "# Question :- 4"
   ]
  },
  {
   "cell_type": "raw",
   "id": "f3a1d8ee-addb-4861-af08-b7d7de48c1ab",
   "metadata": {},
   "source": [
    "# Writing and executing a Python script from the command line involves a few simple steps. Here's a basic guide:\n",
    "\n",
    "1 Open a Text Editor\n",
    "Open your preferred text editor (e.g., Notepad on Windows, TextEdit on macOS, or any code editor like VSCode, Atom, Sublime Text, etc.).\n",
    "\n",
    "2 Write Your Python Code:\n",
    "Write your Python code in the text editor. For example, create a file named myscript.py and add the following code:\n",
    "\n",
    "3 Save the File:\n",
    "Save the file with a .py extension, for example, myscript.py.\n",
    "\n",
    "4 Open the Command Line:\n",
    "Open your command line or terminal.\n",
    "\n",
    "5 Navigate to the Script's Directory:\n",
    "Use the cd command to navigate to the directory where your Python script is located. For example:\n",
    "\n",
    "6 Execute the Script:\n",
    "Run the script using the python command (or python3 on some systems):\n"
   ]
  },
  {
   "cell_type": "markdown",
   "id": "7f9f5aa8-fead-4e48-9b05-70ed20df2c21",
   "metadata": {},
   "source": [
    "# Question :- 5"
   ]
  },
  {
   "cell_type": "code",
   "execution_count": 33,
   "id": "e05a9dde-aef9-4252-a164-d03355bb1918",
   "metadata": {},
   "outputs": [
    {
     "name": "stdout",
     "output_type": "stream",
     "text": [
      "[2, 3]\n"
     ]
    }
   ],
   "source": [
    "# convert my_list into a sub_list.\n",
    "\n",
    "my_list = [1, 2, 3, 4, 5]\n",
    "\n",
    "# Slice the list to obtain the sub-list [2, 3]\n",
    "sub_list = my_list[1:3]\n",
    "\n",
    "print(sub_list)\n"
   ]
  },
  {
   "cell_type": "markdown",
   "id": "5480510e-b802-4674-a1d7-37b2c36f545f",
   "metadata": {},
   "source": [
    "# Question :- 6"
   ]
  },
  {
   "cell_type": "code",
   "execution_count": 34,
   "id": "f4f9b5a5-478d-465b-a14a-2cd52b1453e5",
   "metadata": {},
   "outputs": [
    {
     "name": "stdout",
     "output_type": "stream",
     "text": [
      "(3+4j)\n"
     ]
    }
   ],
   "source": [
    "# Python helps to tackle and manipulate them. Complex numbers are created from two real numbers. You can create it directly or you can use the complex function.\n",
    "# It is written in the form of (x + yj) where x and y are real numbers and j is an imaginary number which is the square root of -1.\n",
    "\n",
    "# Ex. of complex number.\n",
    "\n",
    "a = 3+4j\n",
    "print(a)\n"
   ]
  },
  {
   "cell_type": "markdown",
   "id": "27456350-1c55-49c4-a013-cf197749d1c2",
   "metadata": {},
   "source": [
    "# Question :- 7 "
   ]
  },
  {
   "cell_type": "code",
   "execution_count": 7,
   "id": "86ae8863-5592-4443-8e5e-5bb9823501d3",
   "metadata": {},
   "outputs": [
    {
     "name": "stdout",
     "output_type": "stream",
     "text": [
      "25\n"
     ]
    }
   ],
   "source": [
    "# this is the correct way of assiging the value of a variable .\n",
    "\n",
    "age = 25\n",
    "print( age)"
   ]
  },
  {
   "cell_type": "markdown",
   "id": "5a86f537-b293-451d-b2be-bb624d508815",
   "metadata": {},
   "source": [
    "# Question :- 8"
   ]
  },
  {
   "cell_type": "code",
   "execution_count": null,
   "id": "dccfea32-aec4-46ef-924c-cee9c0c23cc9",
   "metadata": {},
   "outputs": [],
   "source": [
    "\n",
    "price = 9.99\n",
    "\n",
    "# In Python, this variable belongs to the float data type."
   ]
  },
  {
   "cell_type": "markdown",
   "id": "a0043ed2-d6c2-41f1-87ba-308676f37831",
   "metadata": {},
   "source": [
    "# Question :- 9"
   ]
  },
  {
   "cell_type": "code",
   "execution_count": 13,
   "id": "0991ee6b-c140-4209-b5d6-8f59d900becd",
   "metadata": {},
   "outputs": [
    {
     "name": "stdout",
     "output_type": "stream",
     "text": [
      "My name is kushal jangid\n"
     ]
    }
   ],
   "source": [
    "# string\n",
    "\n",
    "name = \"kushal jangid\"\n",
    "\n",
    "print( \"My name is \" + name)"
   ]
  },
  {
   "cell_type": "markdown",
   "id": "3e8d12f9-759e-49ba-af5e-046800c58751",
   "metadata": {},
   "source": [
    "# Question :- 10"
   ]
  },
  {
   "cell_type": "code",
   "execution_count": 24,
   "id": "266b0f05-7290-4f5f-b28b-0e27a2e07983",
   "metadata": {},
   "outputs": [
    {
     "name": "stdout",
     "output_type": "stream",
     "text": [
      "World\n"
     ]
    }
   ],
   "source": [
    "\n",
    "string = \"Hello, World\"\n",
    "\n",
    "substring = string[7:12]\n",
    "\n",
    "print (substring)"
   ]
  },
  {
   "cell_type": "markdown",
   "id": "0e591303-b584-40da-ac31-23830605d41e",
   "metadata": {},
   "source": [
    "# Question :- 11"
   ]
  },
  {
   "cell_type": "code",
   "execution_count": 25,
   "id": "8ed2fc72-ed79-4e3d-ba7c-495a928f32c2",
   "metadata": {},
   "outputs": [
    {
     "name": "stdout",
     "output_type": "stream",
     "text": [
      "True\n"
     ]
    }
   ],
   "source": [
    "# Assigning a boolean value to indicate whether you are a student or not\n",
    "is_student = True  # Set to True if you are a student, or False if you are not\n",
    "\n",
    "# Printing the value of the variable\n",
    "print(is_student)\n",
    " "
   ]
  }
 ],
 "metadata": {
  "kernelspec": {
   "display_name": "Python 3 (ipykernel)",
   "language": "python",
   "name": "python3"
  },
  "language_info": {
   "codemirror_mode": {
    "name": "ipython",
    "version": 3
   },
   "file_extension": ".py",
   "mimetype": "text/x-python",
   "name": "python",
   "nbconvert_exporter": "python",
   "pygments_lexer": "ipython3",
   "version": "3.10.8"
  }
 },
 "nbformat": 4,
 "nbformat_minor": 5
}
